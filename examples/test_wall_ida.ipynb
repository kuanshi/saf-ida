{
 "cells": [
  {
   "cell_type": "code",
   "execution_count": 1,
   "id": "3f2bdfc4-7f3d-4537-8376-5c4c4384e12c",
   "metadata": {},
   "outputs": [],
   "source": [
    "from saf_ida import *"
   ]
  },
  {
   "cell_type": "code",
   "execution_count": 2,
   "id": "35a721f0-0b7b-4f28-8e0c-1df9cef11e8f",
   "metadata": {},
   "outputs": [
    {
     "name": "stdout",
     "output_type": "stream",
     "text": [
      "runSAF_IDA: output directory already exists.\n"
     ]
    }
   ],
   "source": [
    "job_name = 'wall_ida'\n",
    "job_config = './tests/T1_0.89_hazard_train_pred/saf-ida_configuration.json'\n",
    "with open(job_config) as f:\n",
    "    job_info = json.load(f)\n",
    "# directory\n",
    "dir_info = job_info['Directory']\n",
    "work_dir = dir_info['Work']\n",
    "input_dir = dir_info['Input']\n",
    "output_dir = dir_info.get('Output',None)\n",
    "if output_dir is None:\n",
    "    output_dir = os.path.join(os.path.dirname(os.path.abspath(__file__),'Output'))\n",
    "try:\n",
    "    os.mkdir(f\"{output_dir}\")\n",
    "except:\n",
    "    print('runSAF_IDA: output directory already exists.')\n",
    "\n",
    "# job type\n",
    "job_type = job_info.get('Type', None)\n",
    "if job_type is None:\n",
    "    err_msg = 'run_saf_ida: Please specity \"Type\" in the configuraiton file.'\n",
    "    saf_ida_job.logfile.write_msg(msg=err_msg, msg_type='ERROR')"
   ]
  },
  {
   "cell_type": "code",
   "execution_count": 3,
   "id": "d42aad47-754d-4a05-8949-b41290fd2dcf",
   "metadata": {},
   "outputs": [
    {
     "name": "stdout",
     "output_type": "stream",
     "text": [
      "2025-02-20 05:44:33.781538  RUNNING-MSG --NEW LOG STARTING FROM THIS LINE-- \n"
     ]
    },
    {
     "name": "stderr",
     "output_type": "stream",
     "text": [
      "C:\\Programs\\saf-ida\\general.py:76: FutureWarning: Starting with pandas version 3.0 all arguments of to_hdf except for the argument 'path_or_buf' will be keyword-only.\n",
      "  df.to_hdf(store, 'basic', mode='a')\n"
     ]
    }
   ],
   "source": [
    "saf_ida_job = SAF_IDA(dir_info=dir_info, job_name=job_name)"
   ]
  },
  {
   "cell_type": "code",
   "execution_count": 4,
   "id": "218c8186-a0fa-4714-b9b6-41bf8bb5d5a4",
   "metadata": {},
   "outputs": [
    {
     "name": "stdout",
     "output_type": "stream",
     "text": [
      "HazardDisagg: hazard disaggregation configured\n",
      "HazardDisagg: hazard disaggregation configured\n",
      "HazardDisagg: hazard disaggregation configured\n",
      "HazardDisagg: hazard disaggregation configured\n",
      "HazardDisagg: hazard disaggregation configured\n",
      "HazardDisagg: hazard disaggregation configured\n",
      "['SA0P75', 'IMValue', 'Magnitude', 'Distance', 'epsilon']\n",
      "HazardDisagg: hazard disaggregation completed\n",
      "['SA0P75', 'IMValue', 'Magnitude', 'Distance', 'epsilon']\n",
      "HazardDisagg: hazard disaggregation completed\n",
      "['SA0P75', 'IMValue', 'Magnitude', 'Distance', 'epsilon']\n",
      "HazardDisagg: hazard disaggregation completed\n",
      "['SA0P75', 'IMValue', 'Magnitude', 'Distance', 'epsilon']\n",
      "HazardDisagg: hazard disaggregation completed\n",
      "['SA0P75', 'IMValue', 'Magnitude', 'Distance', 'epsilon']\n",
      "HazardDisagg: hazard disaggregation completed\n",
      "['SA0P75', 'IMValue', 'Magnitude', 'Distance', 'epsilon']\n",
      "HazardDisagg: hazard disaggregation completed\n",
      "USGS_GMM: GMM configured\n",
      "USGS_GMM: GMM configured\n",
      "USGS_GMM: GMM configured\n",
      "USGS_GMM: GMM configured\n",
      "USGS_GMM: GMM configured\n",
      "USGS_GMM: GMM configured\n",
      "2025-02-20 05:46:05.553873  RUNNING-MSG SAF_IDA.get_site_specific_hazard: site configurated. \n"
     ]
    },
    {
     "data": {
      "text/plain": [
       "0"
      ]
     },
     "execution_count": 4,
     "metadata": {},
     "output_type": "execute_result"
    }
   ],
   "source": [
    "# get the site config.\n",
    "site_config = job_info.get('SiteSpecificHazard', None)\n",
    "if site_config is None:\n",
    "    err_msg = 'run_saf_ida: SiteSpecificHazard not found in job configuration.'\n",
    "    saf_ida_job.logfile.write_msg(msg=err_msg, msg_type='ERROR')\n",
    "# create site specific hazard information data\n",
    "saf_ida_job.get_site_specific_hazard(site_config=site_config)"
   ]
  },
  {
   "cell_type": "code",
   "execution_count": 5,
   "id": "62cdac41-5952-47bb-932d-9767565a44a8",
   "metadata": {},
   "outputs": [],
   "source": [
    "#with open('./site_data.json','w') as f:\n",
    "#    json.dump(saf_ida_job.site_data_dict,f,indent=2)"
   ]
  },
  {
   "cell_type": "code",
   "execution_count": 6,
   "id": "27d5d9d9-51ff-44ba-befb-1a380ed992c0",
   "metadata": {},
   "outputs": [
    {
     "name": "stdout",
     "output_type": "stream",
     "text": [
      "Loading structural and ground motion data.\n",
      "Computing SaRatio.\n",
      "SaRatio computed.\n",
      "Computing SaRatio.\n",
      "SaRatio computed.\n",
      "Computing SaRatio.\n",
      "SaRatio computed.\n",
      "Data loaded.\n",
      "Processing collapse data.\n",
      "Collapse data processed.\n",
      "Median collapse Sa (g) = [2.99328307]\n",
      "Computing Sa (g) for different EDPs.\n",
      "Sa (g) computed.\n",
      "Computing collapse model.\n",
      "Collapse model computed.\n",
      "Computing EDP models.\n",
      "EDP models computed.\n"
     ]
    },
    {
     "data": {
      "text/plain": [
       "0"
      ]
     },
     "execution_count": 6,
     "metadata": {},
     "output_type": "execute_result"
    }
   ],
   "source": [
    "# get training config\n",
    "train_config = job_info.get('Training', None)\n",
    "if train_config is None:\n",
    "    err_msg = 'run_saf_ida: Training not found in job configuration.'\n",
    "    saf_ida_job.logfile.write_msg(msg=err_msg, msg_type='ERROR')\n",
    "# create a training run\n",
    "saf_ida_job.model_training(input_dir=input_dir, train_config=train_config)"
   ]
  },
  {
   "cell_type": "code",
   "execution_count": 7,
   "id": "87f23208-6286-4e64-bbbf-9fe2c45e2ba1",
   "metadata": {},
   "outputs": [
    {
     "name": "stdout",
     "output_type": "stream",
     "text": [
      "[1.5947922  0.31247693]\n"
     ]
    }
   ],
   "source": [
    "print(saf_ida_job.saf_model.col_model.model.coef_)"
   ]
  },
  {
   "cell_type": "code",
   "execution_count": 8,
   "id": "f2fb7422-4f02-415b-ae32-eebad3316c8a",
   "metadata": {},
   "outputs": [
    {
     "name": "stdout",
     "output_type": "stream",
     "text": [
      "-0.8018247435694876\n"
     ]
    }
   ],
   "source": [
    "print(saf_ida_job.saf_model.col_model.model.intercept_)"
   ]
  },
  {
   "cell_type": "code",
   "execution_count": 9,
   "id": "c12ef0ab-a648-44fb-af43-e3bf2123aa87",
   "metadata": {},
   "outputs": [
    {
     "name": "stdout",
     "output_type": "stream",
     "text": [
      "[1.91057225 2.01262227 1.84344195 2.87541664 0.94143451 1.51467489\n",
      " 1.3945518  1.28266555 1.90702325 2.19352476 1.65839751 1.4882432\n",
      " 1.53803164 1.23601333 1.70062159 2.05559707 2.54612236 1.70897474\n",
      " 1.3912697  1.27910832 1.3423217  1.88315156 2.02224699 1.52300887\n",
      " 1.57369532 1.17708274 1.17588677 1.29018373 1.04508446 2.6469806\n",
      " 1.48443454 1.19345281 2.20160514 1.2664289  1.51211985 0.96373046\n",
      " 2.28394549 0.97544004 1.32805337 1.31143615 1.96457643 1.22309409\n",
      " 2.06462057 1.52346589]\n"
     ]
    }
   ],
   "source": [
    "print(np.squeeze(saf_ida_job.saf_model.saratio_pool_col))"
   ]
  },
  {
   "cell_type": "code",
   "execution_count": 10,
   "id": "24ce9557-587e-497c-a10b-4407314fe550",
   "metadata": {},
   "outputs": [
    {
     "name": "stdout",
     "output_type": "stream",
     "text": [
      "[25.235, 27.535, 31.095000000000002, 33.64, 28.43, 30.240000000000002, 53.800000000000004, 62.7, 53.24, 67.51, 66.54, 66.6, 63.550000000000004, 44.64, 38.9, 34.45, 27.79, 28.7, 53.15, 54.43, 48.120000000000005, 55.46, 70.36, 43.71, 45.7, 45.92, 37.67, 57.050000000000004, 40.46, 42.03, 44.84, 45.97, 68.8, 70.15, 71.21000000000001, 78.76, 71.75, 35.548, 30.765, 25.71, 27.675, 33.335, 38.205, 38.85]\n"
     ]
    }
   ],
   "source": [
    "print(saf_ida_job.saf_model.gmdata.get('Ds575'))"
   ]
  },
  {
   "cell_type": "code",
   "execution_count": 11,
   "id": "a42148b3-8c25-4d08-b50b-25f2b351c394",
   "metadata": {},
   "outputs": [
    {
     "data": {
      "text/plain": [
       "1.5641006663681571"
      ]
     },
     "execution_count": 11,
     "metadata": {},
     "output_type": "execute_result"
    }
   ],
   "source": [
    "np.exp(np.mean(np.log(np.squeeze(saf_ida_job.saf_model.saratio_pool_col))))"
   ]
  },
  {
   "cell_type": "code",
   "execution_count": 12,
   "id": "6769c6c7-a90d-489b-9cfa-e4e62fc9a1ce",
   "metadata": {},
   "outputs": [
    {
     "name": "stdout",
     "output_type": "stream",
     "text": [
      "[6.11 6.75 6.52 6.17 1.05 4.74 2.01 1.86 3.75 7.95 2.62 2.51 7.08 1.54\n",
      " 3.59 7.03 2.91 2.75 4.73 1.8  3.48 3.68 7.12 1.79 4.35 2.02 2.28 5.36\n",
      " 1.7  5.12 3.14 4.52 4.7  1.59 2.35 1.33 7.21 1.04 1.32 1.31 2.77 1.08\n",
      " 2.62 1.53]\n"
     ]
    }
   ],
   "source": [
    "print(np.squeeze(saf_ida_job.saf_model.imcol))"
   ]
  },
  {
   "cell_type": "code",
   "execution_count": 13,
   "id": "d0eb85e8-5f3d-49ff-9100-88ef3161bb04",
   "metadata": {},
   "outputs": [
    {
     "name": "stdout",
     "output_type": "stream",
     "text": [
      "SiteInfo: site data loaded.\n",
      "Collapse model received.\n",
      "EDP models received.\n",
      "Computing GCIM targets.\n",
      "GCIM targets computed.\n",
      "Adjusting EDP: SDRmax-story1 for LosAngeles\n",
      "Adjusted median of SDRmax-story1 at RP224: 0.0020977296903482573\n",
      "Adjusted std of SDRmax-story1 at RP224: 0.22798813424815312\n",
      "Adjusted median of SDRmax-story1 at RP495: 0.002746702857518543\n",
      "Adjusted std of SDRmax-story1 at RP495: 0.2698943200326814\n",
      "Adjusted median of SDRmax-story1 at RP975: 0.0034552664793335353\n",
      "Adjusted std of SDRmax-story1 at RP975: 0.3594934957630085\n"
     ]
    },
    {
     "name": "stderr",
     "output_type": "stream",
     "text": [
      "C:\\Users\\kuans\\AppData\\Local\\Programs\\Python\\Python311\\Lib\\site-packages\\scipy\\optimize\\_optimize.py:941: RuntimeWarning: invalid value encountered in subtract\n",
      "  np.max(np.abs(fsim[0] - fsim[1:])) <= fatol):\n"
     ]
    },
    {
     "name": "stdout",
     "output_type": "stream",
     "text": [
      "Adjusted median of SDRmax-story1 at RP2475: 0.005189435170180101\n",
      "Adjusted std of SDRmax-story1 at RP2475: 0.6126699358348693\n",
      "Adjusted median of SDRmax-story1 at RP4950: 0.007063226109000523\n",
      "Adjusted std of SDRmax-story1 at RP4950: 0.7154439637676617\n",
      "Adjusted median of SDRmax-story1 at RP9900: 0.00948938708779505\n",
      "Adjusted std of SDRmax-story1 at RP9900: 0.7573953248926357\n",
      "Adjusting EDP: SDRmax-story2 for LosAngeles\n",
      "Adjusted median of SDRmax-story2 at RP224: 0.0041407677825268\n",
      "Adjusted std of SDRmax-story2 at RP224: 0.2654915961147212\n",
      "Adjusted median of SDRmax-story2 at RP495: 0.005270263586353585\n",
      "Adjusted std of SDRmax-story2 at RP495: 0.3204214710352874\n",
      "Adjusted median of SDRmax-story2 at RP975: 0.006449688221127341\n",
      "Adjusted std of SDRmax-story2 at RP975: 0.365707445338016\n",
      "Adjusted median of SDRmax-story2 at RP2475: 0.008583144128951656\n",
      "Adjusted std of SDRmax-story2 at RP2475: 0.45933944308897584\n",
      "Adjusted median of SDRmax-story2 at RP4950: 0.010435527637945264\n",
      "Adjusted std of SDRmax-story2 at RP4950: 0.5187320293420139\n",
      "Adjusted median of SDRmax-story2 at RP9900: 0.012470795267600506\n",
      "Adjusted std of SDRmax-story2 at RP9900: 0.5589423000510612\n",
      "Adjusting EDP: SDRmax-story3 for LosAngeles\n",
      "Adjusted median of SDRmax-story3 at RP224: 0.005264828940004984\n",
      "Adjusted std of SDRmax-story3 at RP224: 0.2781848832699848\n",
      "Adjusted median of SDRmax-story3 at RP495: 0.006597845558195627\n",
      "Adjusted std of SDRmax-story3 at RP495: 0.337129703422142\n",
      "Adjusted median of SDRmax-story3 at RP975: 0.008059616826457408\n",
      "Adjusted std of SDRmax-story3 at RP975: 0.37036549146131387\n",
      "Adjusted median of SDRmax-story3 at RP2475: 0.01052366457832227\n",
      "Adjusted std of SDRmax-story3 at RP2475: 0.4322493618726758\n",
      "Adjusted median of SDRmax-story3 at RP4950: 0.012463523805190738\n",
      "Adjusted std of SDRmax-story3 at RP4950: 0.4849499967008768\n",
      "Adjusted median of SDRmax-story3 at RP9900: 0.014426747487098478\n",
      "Adjusted std of SDRmax-story3 at RP9900: 0.5240811118549165\n",
      "Adjusting EDP: SDRmax-story4 for LosAngeles\n",
      "Adjusted median of SDRmax-story4 at RP224: 0.00600546555424872\n",
      "Adjusted std of SDRmax-story4 at RP224: 0.2940570509035386\n",
      "Adjusted median of SDRmax-story4 at RP495: 0.0076450239420382295\n",
      "Adjusted std of SDRmax-story4 at RP495: 0.34348630443826617\n",
      "Adjusted median of SDRmax-story4 at RP975: 0.009215304520009172\n",
      "Adjusted std of SDRmax-story4 at RP975: 0.3809312720100087\n",
      "Adjusted median of SDRmax-story4 at RP2475: 0.011834481795558377\n",
      "Adjusted std of SDRmax-story4 at RP2475: 0.43368678013670114\n",
      "Adjusted median of SDRmax-story4 at RP4950: 0.013917389618034834\n",
      "Adjusted std of SDRmax-story4 at RP4950: 0.48120391740341106\n",
      "Adjusted median of SDRmax-story4 at RP9900: 0.0159503124021807\n",
      "Adjusted std of SDRmax-story4 at RP9900: 0.5160699922890575\n",
      "Adjusting EDP: SDRmax-story5 for LosAngeles\n",
      "Adjusted median of SDRmax-story5 at RP224: 0.006617600980633885\n",
      "Adjusted std of SDRmax-story5 at RP224: 0.297709498804491\n",
      "Adjusted median of SDRmax-story5 at RP495: 0.008461469563000095\n",
      "Adjusted std of SDRmax-story5 at RP495: 0.35899827849067684\n",
      "Adjusted median of SDRmax-story5 at RP975: 0.010527963006768557\n",
      "Adjusted std of SDRmax-story5 at RP975: 0.39692014838536543\n",
      "Adjusted median of SDRmax-story5 at RP2475: 0.01334445732305245\n",
      "Adjusted std of SDRmax-story5 at RP2475: 0.429091790921433\n",
      "Adjusted median of SDRmax-story5 at RP4950: 0.015324417649239037\n",
      "Adjusted std of SDRmax-story5 at RP4950: 0.47792284124368134\n",
      "Adjusted median of SDRmax-story5 at RP9900: 0.01734009428811289\n",
      "Adjusted std of SDRmax-story5 at RP9900: 0.5231263103062065\n",
      "Adjusting EDP: SDRmax-story6 for LosAngeles\n",
      "Adjusted median of SDRmax-story6 at RP224: 0.007079828809479454\n",
      "Adjusted std of SDRmax-story6 at RP224: 0.30889152650278273\n",
      "Adjusted median of SDRmax-story6 at RP495: 0.009333165526898645\n",
      "Adjusted std of SDRmax-story6 at RP495: 0.3654087317175443\n",
      "Adjusted median of SDRmax-story6 at RP975: 0.011501350455856187\n",
      "Adjusted std of SDRmax-story6 at RP975: 0.3922144521587683\n",
      "Adjusted median of SDRmax-story6 at RP2475: 0.014757998804146955\n",
      "Adjusted std of SDRmax-story6 at RP2475: 0.44102217339408933\n",
      "Adjusted median of SDRmax-story6 at RP4950: 0.017165093809158163\n",
      "Adjusted std of SDRmax-story6 at RP4950: 0.48838310062464385\n",
      "Adjusted median of SDRmax-story6 at RP9900: 0.01950314134248322\n",
      "Adjusted std of SDRmax-story6 at RP9900: 0.5283522341863159\n",
      "Adjusting EDP: SDRmax-story7 for LosAngeles\n",
      "Adjusted median of SDRmax-story7 at RP224: 0.007363374090317168\n",
      "Adjusted std of SDRmax-story7 at RP224: 0.3251130314765903\n",
      "Adjusted median of SDRmax-story7 at RP495: 0.010157467655153967\n",
      "Adjusted std of SDRmax-story7 at RP495: 0.38393629726215295\n",
      "Adjusted median of SDRmax-story7 at RP975: 0.01307872605283834\n",
      "Adjusted std of SDRmax-story7 at RP975: 0.42930427270531124\n",
      "Adjusted median of SDRmax-story7 at RP2475: 0.01752437091709546\n",
      "Adjusted std of SDRmax-story7 at RP2475: 0.479680257106884\n",
      "Adjusted median of SDRmax-story7 at RP4950: 0.020642423077170347\n",
      "Adjusted std of SDRmax-story7 at RP4950: 0.5202134069183807\n",
      "Adjusted median of SDRmax-story7 at RP9900: 0.023847302523725047\n",
      "Adjusted std of SDRmax-story7 at RP9900: 0.5714402481511709\n",
      "Adjusting EDP: SDRmax-story8 for LosAngeles\n",
      "Adjusted median of SDRmax-story8 at RP224: 0.007467414544335946\n",
      "Adjusted std of SDRmax-story8 at RP224: 0.3294806181845438\n",
      "Adjusted median of SDRmax-story8 at RP495: 0.01041307185827517\n",
      "Adjusted std of SDRmax-story8 at RP495: 0.39172765295835177\n",
      "Adjusted median of SDRmax-story8 at RP975: 0.013708139980646834\n",
      "Adjusted std of SDRmax-story8 at RP975: 0.44979792909684163\n",
      "Adjusted median of SDRmax-story8 at RP2475: 0.018995123949511535\n",
      "Adjusted std of SDRmax-story8 at RP2475: 0.5118803305073073\n",
      "Adjusted median of SDRmax-story8 at RP4950: 0.022933567947726458\n",
      "Adjusted std of SDRmax-story8 at RP4950: 0.5655356475305231\n",
      "Adjusted median of SDRmax-story8 at RP9900: 0.026823065033108127\n",
      "Adjusted std of SDRmax-story8 at RP9900: 0.6121580738212913\n",
      "Adjusting EDP: SDRmax for LosAngeles\n",
      "Adjusted median of SDRmax at RP224: 0.007464862115486939\n",
      "Adjusted std of SDRmax at RP224: 0.3295112301781781\n",
      "Adjusted median of SDRmax at RP495: 0.01042667472642039\n",
      "Adjusted std of SDRmax at RP495: 0.39256094511422845\n",
      "Adjusted median of SDRmax at RP975: 0.013772572199734436\n",
      "Adjusted std of SDRmax at RP975: 0.4539276796361722\n",
      "Adjusted median of SDRmax at RP2475: 0.01915328278063662\n",
      "Adjusted std of SDRmax at RP2475: 0.5173731264200405\n",
      "Adjusted median of SDRmax at RP4950: 0.02315308267055159\n",
      "Adjusted std of SDRmax at RP4950: 0.5694926351271221\n",
      "Adjusted median of SDRmax at RP9900: 0.02737089108355171\n",
      "Adjusted std of SDRmax at RP9900: 0.5973152628156967\n",
      "Adjusting collapse fragility for Case: LosAngeles\n",
      "saratio and ds5-75 @ RP #224 = [1.46650161 8.03733669]\n",
      "saratio and ds5-75 @ RP #495 = [1.58514277 7.44311367]\n",
      "saratio and ds5-75 @ RP #975 = [1.68189308 7.07631176]\n",
      "saratio and ds5-75 @ RP #2475 = [1.80765092 6.69917701]\n",
      "saratio and ds5-75 @ RP #4950 = [1.89021503 6.58074601]\n",
      "saratio and ds5-75 @ RP #9900 = [1.96492913 6.62071576]\n",
      "Adjusted median collapse Sa (g): 2.341012787548861\n",
      "Adjusted dispersion of collapse Sa: 0.8332471553582753\n"
     ]
    }
   ],
   "source": [
    "# get training config\n",
    "pred_config = job_info.get('Prediction', None)\n",
    "if pred_config is None:\n",
    "    err_msg = 'run_saf_ida: Prediction not found in job configuration.'\n",
    "    saf_ida_job.logfile.write_msg(msg=err_msg, msg_type='ERROR')\n",
    "# create a training run\n",
    "saf_ida_job.model_prediction(pred_config=pred_config, output_dir=output_dir)"
   ]
  },
  {
   "cell_type": "code",
   "execution_count": null,
   "id": "47ed3139-57bd-4861-aeeb-f43ae29580c7",
   "metadata": {},
   "outputs": [],
   "source": []
  }
 ],
 "metadata": {
  "kernelspec": {
   "display_name": "Python 3 (ipykernel)",
   "language": "python",
   "name": "python3"
  },
  "language_info": {
   "codemirror_mode": {
    "name": "ipython",
    "version": 3
   },
   "file_extension": ".py",
   "mimetype": "text/x-python",
   "name": "python",
   "nbconvert_exporter": "python",
   "pygments_lexer": "ipython3",
   "version": "3.11.9"
  }
 },
 "nbformat": 4,
 "nbformat_minor": 5
}
